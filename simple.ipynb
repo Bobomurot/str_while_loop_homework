{
 "cells": [
  {
   "cell_type": "code",
   "execution_count": 12,
   "metadata": {},
   "outputs": [
    {
     "name": "stdout",
     "output_type": "stream",
     "text": [
      "None\n"
     ]
    }
   ],
   "source": [
    "def main(s):\n",
    "    \"\"\"\n",
    "    A string of numbers is given. Find and return the sum of all odd digits.\n",
    "    Args:\n",
    "        s: str\n",
    "    Returns:\n",
    "        int: return answer\n",
    "    \"\"\"\n",
    "    count = 0\n",
    "    n = 0\n",
    "    while n < len(s):\n",
    "        if int(s[n]) % 2 == 1:\n",
    "            count += int(s[n])\n",
    "        n += 1\n",
    "    return count\n",
    "x = main(\"2723\")\n",
    "print(x)"
   ]
  }
 ],
 "metadata": {
  "kernelspec": {
   "display_name": "Python 3",
   "language": "python",
   "name": "python3"
  },
  "language_info": {
   "codemirror_mode": {
    "name": "ipython",
    "version": 3
   },
   "file_extension": ".py",
   "mimetype": "text/x-python",
   "name": "python",
   "nbconvert_exporter": "python",
   "pygments_lexer": "ipython3",
   "version": "3.13.1"
  }
 },
 "nbformat": 4,
 "nbformat_minor": 2
}
